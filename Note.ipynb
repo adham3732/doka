{
 "cells": [
  {
   "cell_type": "code",
   "execution_count": null,
   "id": "f170a96a",
   "metadata": {},
   "outputs": [],
   "source": [
    "1- read \n",
    "2- head\n",
    "3- null \n",
    "4- encoding\n",
    "5- scaling\n",
    "6- describe\n",
    "7- visual (dist = hist, rel = scatt, imp = barp)\n",
    "8- feat eng (x , y)\n",
    "9- train_t_s\n",
    "10- models\n",
    "11- fit\n",
    "12- predict\n",
    "13- metrices\n",
    "14- visual (actual vs pred) for each model\n",
    "15- Grid , ranz searchcv \n",
    "16- metrices \n",
    "17- gradio"
   ]
  }
 ],
 "metadata": {
  "language_info": {
   "name": "python"
  }
 },
 "nbformat": 4,
 "nbformat_minor": 5
}
